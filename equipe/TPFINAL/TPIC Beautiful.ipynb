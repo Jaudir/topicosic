{
 "cells": [
  {
   "cell_type": "code",
   "execution_count": 96,
   "metadata": {},
   "outputs": [],
   "source": [
    "from bs4 import BeautifulSoup\n",
    "import requests\n",
    "import pandas \n",
    "import re\n",
    "import time\n",
    "import csv"
   ]
  },
  {
   "cell_type": "markdown",
   "metadata": {},
   "source": [
    "Confingurando strings padrões:"
   ]
  },
  {
   "cell_type": "code",
   "execution_count": 164,
   "metadata": {},
   "outputs": [],
   "source": [
    "def GetHTML(page_link):\n",
    "    page_response = requests.get(page_link, timeout=5)\n",
    "    page_content = BeautifulSoup(page_response.content, \"html.parser\")\n",
    "    return page_content"
   ]
  },
  {
   "cell_type": "code",
   "execution_count": 182,
   "metadata": {},
   "outputs": [],
   "source": [
    "def gerarListaConsultas(subbase,ano):\n",
    "    base = \"http://sis.montesclaros.mg.gov.br\"\n",
    "    fim_hash = ['31%2F01%2F201','28%2F02%2F201','30%2F03%2F201','31%2F04%2F201',\\\n",
    "            '30%2F05%2F201','31%2F06%2F201','30%2F07%2F201','31%2F08%2F201',\\\n",
    "            '30%2F09%2F201','31%2F10%2F201','30%2F11%2F201','31%2F12%2F201']\n",
    "    inicio_hash = ['01%2F01%2F201','01%2F02%2F201','01%2F03%2F201','01%2F04%2F201',\\\n",
    "            '01%2F05%2F201','01%2F06%2F201','01%2F07%2F201','31%2F08%2F201',\\\n",
    "            '01%2F09%2F201','01%2F10%2F201','01%2F11%2F201','31%2F12%2F201']\n",
    "    \n",
    "    \n",
    "    lista_links = []\n",
    "    for inicio,fim in zip(inicio_hash, fim_hash):\n",
    "        inicio = \"&inicio=\"+inicio+ano\n",
    "        fim = \"&fim=\"+fim+ano\n",
    "        pagina = \"&page=1\"\n",
    "        link = base+subbase+inicio+fim+pagina\n",
    "        page_content = GetHTML(link)\n",
    "        try:\n",
    "            last_page = int(page_content.find_all('li')[-1].find('a')['href'].split(\"=\")[-1])\n",
    "            pagina = \"&page=\"\n",
    "            for i in range(1,last_page+1):\n",
    "                link = base+subbase+inicio+fim+pagina+str(i)\n",
    "                lista_links.append(link)\n",
    "        except:\n",
    "            pass"
   ]
  },
  {
   "cell_type": "code",
   "execution_count": 93,
   "metadata": {},
   "outputs": [],
   "source": [
    "textContent = []\n",
    "tuplas = []\n",
    "context = page_content.find_all(\"td\")\n",
    "for coluna in context:\n",
    "    valor = coluna.text\n",
    "    if valor == '\\n ':\n",
    "        valor = coluna.find(\"a\")['href']\n",
    "        page_link_details = base+valor\n",
    "        page_details_response = requests.get(page_link_details, timeout=5)\n",
    "        page_details_content = BeautifulSoup(page_details_response.content, \"html.parser\")\n",
    "        context_details = page_details_content.find_all(\"td\")\n",
    "        tam = len(context_details)\n",
    "        for i in range(tam):\n",
    "            if context_details[i].find('strong') != None :\n",
    "                valor = context_details[i+1].text.strip()\n",
    "                textContent.append(valor)\n",
    "\n",
    "        tuplas.append(textContent)\n",
    "        textContent = []\n",
    "    else:\n",
    "        textContent.append(valor.strip())"
   ]
  },
  {
   "cell_type": "code",
   "execution_count": 132,
   "metadata": {},
   "outputs": [],
   "source": [
    "csvfile = open(arquivoOutput, 'a+', encoding='utf-8-sig') \n",
    "spamwriter = csv.writer(csvfile, delimiter=';', quoting=csv.QUOTE_MINIMAL)\n",
    "# FAZER COLUNAS spamwriter.writerow(['Marca', 'Modelo', 'Ano'])\n",
    "for tupla in tuplas:\n",
    "    spamwriter.writerow(tupla)"
   ]
  },
  {
   "cell_type": "code",
   "execution_count": 145,
   "metadata": {},
   "outputs": [],
   "source": []
  },
  {
   "cell_type": "code",
   "execution_count": 160,
   "metadata": {},
   "outputs": [],
   "source": []
  },
  {
   "cell_type": "code",
   "execution_count": 161,
   "metadata": {},
   "outputs": [
    {
     "data": {
      "text/plain": [
       "76"
      ]
     },
     "execution_count": 161,
     "metadata": {},
     "output_type": "execute_result"
    }
   ],
   "source": [
    "last_page"
   ]
  },
  {
   "cell_type": "code",
   "execution_count": null,
   "metadata": {},
   "outputs": [],
   "source": []
  }
 ],
 "metadata": {
  "kernelspec": {
   "display_name": "Python 3",
   "language": "python",
   "name": "python3"
  },
  "language_info": {
   "codemirror_mode": {
    "name": "ipython",
    "version": 3
   },
   "file_extension": ".py",
   "mimetype": "text/x-python",
   "name": "python",
   "nbconvert_exporter": "python",
   "pygments_lexer": "ipython3",
   "version": "3.6.5"
  }
 },
 "nbformat": 4,
 "nbformat_minor": 2
}
